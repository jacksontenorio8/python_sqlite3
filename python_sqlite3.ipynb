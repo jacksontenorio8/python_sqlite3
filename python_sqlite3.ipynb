{
  "nbformat": 4,
  "nbformat_minor": 0,
  "metadata": {
    "colab": {
      "name": "python_sqlite3.ipynb",
      "provenance": [],
      "collapsed_sections": [],
      "authorship_tag": "ABX9TyOEOQtXGcCLl3i2S70cwBIE",
      "include_colab_link": true
    },
    "kernelspec": {
      "name": "python3",
      "display_name": "Python 3"
    },
    "language_info": {
      "name": "python"
    }
  },
  "cells": [
    {
      "cell_type": "markdown",
      "metadata": {
        "id": "view-in-github",
        "colab_type": "text"
      },
      "source": [
        "<a href=\"https://colab.research.google.com/github/jacksontenorio8/python_sqlite3/blob/main/python_sqlite3.ipynb\" target=\"_parent\"><img src=\"https://colab.research.google.com/assets/colab-badge.svg\" alt=\"Open In Colab\"/></a>"
      ]
    },
    {
      "cell_type": "code",
      "execution_count": 1,
      "metadata": {
        "colab": {
          "base_uri": "https://localhost:8080/",
          "height": 35
        },
        "id": "2SbWusyeJHDH",
        "outputId": "76e9685b-70ba-47cf-bd45-5b8bd345b428"
      },
      "outputs": [
        {
          "output_type": "execute_result",
          "data": {
            "text/plain": [
              "'\\n-> Documentação:\\n- https://docs.python.org/3/library/sqlite3.html\\n'"
            ],
            "application/vnd.google.colaboratory.intrinsic+json": {
              "type": "string"
            }
          },
          "metadata": {},
          "execution_count": 1
        }
      ],
      "source": [
        "import sqlite3\n",
        "\"\"\"\n",
        "-> Documentação:\n",
        "- https://docs.python.org/3/library/sqlite3.html\n",
        "\"\"\""
      ]
    },
    {
      "cell_type": "code",
      "source": [
        "# Criar um Banco de Dados\n",
        "Conexao = sqlite3.connect('Banco_Dados')"
      ],
      "metadata": {
        "id": "kjj5uqB_JYPf"
      },
      "execution_count": 2,
      "outputs": []
    },
    {
      "cell_type": "code",
      "source": [
        "# Apontar para o Banco de Dados\n",
        "Cursor = Conexao.cursor()"
      ],
      "metadata": {
        "id": "MJM8SSUvLeBX"
      },
      "execution_count": 3,
      "outputs": []
    },
    {
      "cell_type": "code",
      "source": [
        "# Criando uma tabela\n",
        "Cursor.execute(\n",
        "    'CREATE TABLE Minha_Tabela (Data text, Nome text, Idade real)'\n",
        ")\n",
        "\n",
        "# Fazer o commit\n",
        "Conexao.commit()"
      ],
      "metadata": {
        "id": "S5uJIkwtKTbr"
      },
      "execution_count": 4,
      "outputs": []
    },
    {
      "cell_type": "code",
      "source": [
        "# Inserindo valores\n",
        "Cursor.execute(\n",
        "    'INSERT INTO Minha_Tabela VALUES (\"21/05/22\", \"Jackson\", \"50\")'\n",
        ")"
      ],
      "metadata": {
        "colab": {
          "base_uri": "https://localhost:8080/"
        },
        "id": "lOcKs7wMMER3",
        "outputId": "ac034daf-489c-46c0-8214-a6f8278e9e02"
      },
      "execution_count": 5,
      "outputs": [
        {
          "output_type": "execute_result",
          "data": {
            "text/plain": [
              "<sqlite3.Cursor at 0x7fe3f5d6cf10>"
            ]
          },
          "metadata": {},
          "execution_count": 5
        }
      ]
    },
    {
      "cell_type": "code",
      "source": [
        "Cursor.execute(\n",
        "    'INSERT INTO Minha_Tabela VALUES (\"21/05/22\", \"Agamenom\", \"45\")'\n",
        ")"
      ],
      "metadata": {
        "colab": {
          "base_uri": "https://localhost:8080/"
        },
        "id": "vA0_nsqhNq2n",
        "outputId": "82ca7129-53a5-4e99-ed0f-3d956e0e7cbc"
      },
      "execution_count": 6,
      "outputs": [
        {
          "output_type": "execute_result",
          "data": {
            "text/plain": [
              "<sqlite3.Cursor at 0x7fe3f5d6cf10>"
            ]
          },
          "metadata": {},
          "execution_count": 6
        }
      ]
    },
    {
      "cell_type": "code",
      "source": [
        "# Importar Números Aleatórios\n",
        "import random"
      ],
      "metadata": {
        "id": "saSBaDNZN2iy"
      },
      "execution_count": 7,
      "outputs": []
    },
    {
      "cell_type": "code",
      "source": [
        "# Loop\n",
        "for Loop in range(10):\n",
        "\n",
        "# Gerando um número aleatorio\n",
        "  Numero = random.randint(10, 20)\n",
        "\n",
        "  # Gerando informações na minha tabela\n",
        "  Cursor.execute(f'INSERT INTO Minha_Tabela VALUES (\"21/05/22\", \"Agamenom\", {Numero})')"
      ],
      "metadata": {
        "id": "EbpTZJAyORDk"
      },
      "execution_count": 12,
      "outputs": []
    },
    {
      "cell_type": "markdown",
      "source": [
        "#SELECT TABLE\n",
        "- A SELECT instrução é usada para selecionar dados em um banco de dados.\n",
        "\n",
        "- SLECT*FROM table_name\n",
        "\n",
        "- SELECT column1, column2,...FROM table_name"
      ],
      "metadata": {
        "id": "1RbkT9oBUmtq"
      }
    },
    {
      "cell_type": "code",
      "source": [
        "# Query de consulta - Todas as colunas\n",
        "Consulta = Cursor.execute('SELECT*FROM minha_tabela').fetchall()\n",
        "print(Consulta)\n"
      ],
      "metadata": {
        "colab": {
          "base_uri": "https://localhost:8080/"
        },
        "id": "MJk3bIUhVcZD",
        "outputId": "aa45a07a-7698-45c0-91d9-19788b2887b7"
      },
      "execution_count": 14,
      "outputs": [
        {
          "output_type": "stream",
          "name": "stdout",
          "text": [
            "[('21/05/22', 'Jackson', 50.0), ('21/05/22', 'Agamenom', 45.0), ('21/05/22', 'Agamenom', 13.0), ('21/05/22', 'Agamenom', 12.0), ('21/05/22', 'Agamenom', 15.0), ('21/05/22', 'Agamenom', 12.0), ('21/05/22', 'Agamenom', 12.0), ('21/05/22', 'Agamenom', 17.0), ('21/05/22', 'Agamenom', 16.0), ('21/05/22', 'Agamenom', 18.0), ('21/05/22', 'Agamenom', 12.0), ('21/05/22', 'Agamenom', 10.0), ('21/05/22', 'Agamenom', 11.0), ('21/05/22', 'Agamenom', 17.0), ('21/05/22', 'Agamenom', 17.0), ('21/05/22', 'Agamenom', 12.0), ('21/05/22', 'Agamenom', 20.0), ('21/05/22', 'Agamenom', 13.0), ('21/05/22', 'Agamenom', 17.0), ('21/05/22', 'Agamenom', 10.0), ('21/05/22', 'Agamenom', 18.0), ('21/05/22', 'Agamenom', 19.0)]\n"
          ]
        }
      ]
    },
    {
      "cell_type": "code",
      "source": [
        "# Query de consulta - Colunas Especificas\n",
        "Consulta = Cursor.execute('SELECT Nome, Idade FROM minha_tabela').fetchall()\n",
        "\n",
        "#Loop\n",
        "for Linha in Consulta:\n",
        "  print(Linha)\n"
      ],
      "metadata": {
        "colab": {
          "base_uri": "https://localhost:8080/"
        },
        "id": "NnUdCfrBXIwx",
        "outputId": "2e30f6a6-868c-47c5-9d55-4b76243ab64c"
      },
      "execution_count": 15,
      "outputs": [
        {
          "output_type": "stream",
          "name": "stdout",
          "text": [
            "('Jackson', 50.0)\n",
            "('Agamenom', 45.0)\n",
            "('Agamenom', 13.0)\n",
            "('Agamenom', 12.0)\n",
            "('Agamenom', 15.0)\n",
            "('Agamenom', 12.0)\n",
            "('Agamenom', 12.0)\n",
            "('Agamenom', 17.0)\n",
            "('Agamenom', 16.0)\n",
            "('Agamenom', 18.0)\n",
            "('Agamenom', 12.0)\n",
            "('Agamenom', 10.0)\n",
            "('Agamenom', 11.0)\n",
            "('Agamenom', 17.0)\n",
            "('Agamenom', 17.0)\n",
            "('Agamenom', 12.0)\n",
            "('Agamenom', 20.0)\n",
            "('Agamenom', 13.0)\n",
            "('Agamenom', 17.0)\n",
            "('Agamenom', 10.0)\n",
            "('Agamenom', 18.0)\n",
            "('Agamenom', 19.0)\n"
          ]
        }
      ]
    }
  ]
}